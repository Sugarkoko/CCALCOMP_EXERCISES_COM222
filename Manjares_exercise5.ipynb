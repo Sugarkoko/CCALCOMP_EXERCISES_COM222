{
  "cells": [
    {
      "cell_type": "markdown",
      "metadata": {
        "id": "-8bYOEC8HOQ4"
      },
      "source": [
        "# Exercise 5\n",
        "\n",
        "Please follow the instructions in each number."
      ]
    },
    {
      "cell_type": "markdown",
      "metadata": {
        "id": "FEPXLUAPHOQ6"
      },
      "source": [
        "### Maximum Subarray\n",
        "Given an array of integers nums, find the subarray with the largest sum and return the sum.\n",
        "\n",
        "A subarray is a contiguous non-empty sequence of elements within an array.\n",
        "\n",
        "\n",
        "\n",
        "Example 1:\n",
        "\n",
        "Input: nums = [2,-3,4,-2,2,1,-1,4]\n",
        "\n",
        "Output: 8\n",
        "\n",
        "Explanation: The subarray [4,-2,2,1,-1,4] has the largest sum 8."
      ]
    },
    {
      "cell_type": "markdown",
      "metadata": {
        "id": "D4a-4yS4HOQ7"
      },
      "source": [
        "## Tasks"
      ]
    },
    {
      "cell_type": "markdown",
      "metadata": {
        "id": "v8mlE6kYHOQ7"
      },
      "source": [
        "1. Put your student number in a list and manually compute the maximum subarray in your student number (`10 points`)"
      ]
    },
    {
      "cell_type": "code",
      "execution_count": 2,
      "metadata": {
        "vscode": {
          "languageId": "plaintext"
        },
        "id": "YJMIVpuTHOQ8",
        "colab": {
          "base_uri": "https://localhost:8080/"
        },
        "outputId": "27313796-8a44-400f-ba58-a99a0677b3cb"
      },
      "outputs": [
        {
          "output_type": "stream",
          "name": "stdout",
          "text": [
            "The maximum subarray sum for the student number [2, 0, 2, 2, 1, 0, 7, 7, 6, 5] is 32. \n"
          ]
        }
      ],
      "source": [
        "print(\"The maximum subarray sum for the student number [2, 0, 2, 2, 1, 0, 7, 7, 6, 5] is 32. \")"
      ]
    },
    {
      "cell_type": "markdown",
      "metadata": {
        "id": "nchQgI2KHOQ8"
      },
      "source": [
        "2. Write a program using a brute-force approach to get the maximum-subarray of your student number (`40 points`)"
      ]
    },
    {
      "cell_type": "code",
      "execution_count": 3,
      "metadata": {
        "vscode": {
          "languageId": "plaintext"
        },
        "id": "b9P6oe11HOQ9",
        "colab": {
          "base_uri": "https://localhost:8080/"
        },
        "outputId": "bc2493ef-45b0-4e0d-b08d-90290a733dea"
      },
      "outputs": [
        {
          "output_type": "stream",
          "name": "stdout",
          "text": [
            "Maximum subarray sum: 32\n",
            "Subarray: [2, 0, 2, 2, 1, 0, 7, 7, 6, 5]\n"
          ]
        }
      ],
      "source": [
        "def max_subarray_brute_force(nums):\n",
        "    n = len(nums)\n",
        "    if n == 0:\n",
        "        return 0\n",
        "\n",
        "    max_sum = float('-inf')\n",
        "    start = end = 0\n",
        "\n",
        "    for i in range(n):\n",
        "        current_sum = 0\n",
        "        for j in range(i, n):\n",
        "            current_sum += nums[j]\n",
        "            if current_sum > max_sum:\n",
        "                max_sum = current_sum\n",
        "                start = i\n",
        "                end = j\n",
        "\n",
        "    return max_sum, start, end\n",
        "\n",
        "# Student number example: 2022107765\n",
        "student_number = [2, 0, 2, 2, 1, 0, 7, 7, 6, 5]\n",
        "max_sum, start, end = max_subarray_brute_force(student_number)\n",
        "\n",
        "print(\"Maximum subarray sum:\", max_sum)\n",
        "print(\"Subarray:\", student_number[start:end+1])\n"
      ]
    },
    {
      "cell_type": "markdown",
      "metadata": {
        "id": "NkqAxIx_HOQ9"
      },
      "source": [
        "3. Write a program using a dynamic programming to get the maximum-subarray of your student number (`50 points`)"
      ]
    },
    {
      "cell_type": "code",
      "execution_count": 4,
      "metadata": {
        "vscode": {
          "languageId": "plaintext"
        },
        "id": "BFBp2ARLHOQ9",
        "colab": {
          "base_uri": "https://localhost:8080/"
        },
        "outputId": "4fa68a43-07dd-444a-9a32-9dfe238730bc"
      },
      "outputs": [
        {
          "output_type": "stream",
          "name": "stdout",
          "text": [
            "Maximum subarray sum: 32\n"
          ]
        }
      ],
      "source": [
        "def max_subarray_dp(nums):\n",
        "    n = len(nums)\n",
        "    if n == 0:\n",
        "        return 0\n",
        "\n",
        "    max_ending_here = nums[0]\n",
        "    max_so_far = nums[0]\n",
        "\n",
        "    for i in range(1, n):\n",
        "        max_ending_here = max(nums[i], max_ending_here + nums[i])\n",
        "        max_so_far = max(max_so_far, max_ending_here)\n",
        "\n",
        "    return max_so_far\n",
        "\n",
        "# Student number example: 2022107765\n",
        "student_number = [2, 0, 2, 2, 1, 0, 7, 7, 6, 5]\n",
        "max_subarray_sum = max_subarray_dp(student_number)\n",
        "\n",
        "print(\"Maximum subarray sum:\", max_subarray_sum)\n"
      ]
    }
  ],
  "metadata": {
    "colab": {
      "provenance": []
    },
    "kernelspec": {
      "display_name": "base",
      "language": "python",
      "name": "python3"
    },
    "language_info": {
      "codemirror_mode": {
        "name": "ipython",
        "version": 3
      },
      "file_extension": ".py",
      "mimetype": "text/x-python",
      "name": "python",
      "nbconvert_exporter": "python",
      "pygments_lexer": "ipython3",
      "version": "3.9.6"
    }
  },
  "nbformat": 4,
  "nbformat_minor": 0
}